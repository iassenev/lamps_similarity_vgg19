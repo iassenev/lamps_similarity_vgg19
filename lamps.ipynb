{
 "cells": [
  {
   "cell_type": "markdown",
   "metadata": {},
   "source": [
    "# Lamps Similarity Using VGG19 Demo.\n"
   ]
  },
  {
   "cell_type": "markdown",
   "metadata": {},
   "source": [
    "Click on the next section and then press Shift + Enter to run the code in the cell.\n"
   ]
  },
  {
   "cell_type": "code",
   "execution_count": null,
   "metadata": {},
   "outputs": [],
   "source": [
    "# This is an initialization code, which should be called just once.\n",
    "from lamps_utils import initialize_pretrained_model, initialize_images_database, initialize_vgg_model, show_similar\n",
    "from pathlib import Path\n",
    "\n",
    "g_local_folder              = Path.joinpath( Path.home(), \"downloads\", \"lamps_similarity\" )\n",
    "Path.mkdir                  ( g_local_folder, parents = True, exist_ok = True )\n",
    "\n",
    "print                       ( \"loading pretrained model file\" )\n",
    "g_pretrained_model_path     = initialize_pretrained_model ( Path.joinpath( g_local_folder, \"pretrained-model\" ) )\n",
    "\n",
    "print                       ( \"initializing vgg-19-verydeep model\" )\n",
    "g_model                     = initialize_vgg_model( g_pretrained_model_path )\n",
    "print                       ( \"completed.\" )"
   ]
  },
  {
   "cell_type": "markdown",
   "metadata": {},
   "source": [
    "Click on the next section and then press Shift + Enter to run the code in the cell.\n"
   ]
  },
  {
   "cell_type": "code",
   "execution_count": null,
   "metadata": {},
   "outputs": [],
   "source": [
    "print                       ( \"initializing images database\" )\n",
    "g_images_folder             = Path.joinpath( g_local_folder, \"images\" )\n",
    "g_images_file_names, g_images_database_version = initialize_images_database  ( g_images_folder, [\n",
    "    # category 1 (classics)\n",
    "    \"https://www.lampa.kiev.ua/web_im/10000/12000/12268b0_big.jpg\",\n",
    "    \"https://www.lampa.kiev.ua/web_im/50000/56000/56542b0_big.jpg\",\n",
    "    \"https://www.lampa.kiev.ua/web_im/10000/16000/16090b0_big.jpg\",\n",
    "    \"https://www.lampa.kiev.ua/web_im/50000/58000/58651b0_big.jpg\",\n",
    "    \"https://www.lampa.kiev.ua/web_im/50000/58000/58652b0_big.jpg\",\n",
    "    \"https://www.lampa.kiev.ua/web_im/90000/92000/92874b0_big.jpg\",\n",
    "    \"https://www.lampa.kiev.ua/web_im/10000/12000/12266b0_big.jpg\",\n",
    "    \"https://www.lampa.kiev.ua/web_im/10000/16000/16078b0_big.jpg\",\n",
    "    \"https://www.lampa.kiev.ua/web_im/70000/74000/74951b0_big.jpg\",\n",
    "    \"https://www.lampa.kiev.ua/web_im/70000/77000/77889b0_big.jpg\",\n",
    "    \"https://www.lampa.kiev.ua/web_im/30000/31000/31659b0_big.jpg\",\n",
    "    \"https://www.lampa.kiev.ua/web_im/50000/56000/56545b0_big.jpg\",\n",
    "    \"https://www.lampa.kiev.ua/web_im/50000/56000/56549b0_big.jpg\",\n",
    "    \"https://www.lampa.kiev.ua/web_im/50000/56000/56538b0_big.jpg\",\n",
    "    \"https://www.lampa.kiev.ua/web_im/70000/78000/78808b0_big.jpg\",\n",
    "    \"https://www.lampa.kiev.ua/web_im/10000/14000/14240b0_big.jpg\",\n",
    "    # category 2 (crystal)\n",
    "    \"https://www.lampa.kiev.ua/web_im/50000/58000/58490b0_big.jpg\",\n",
    "    \"https://www.lampa.kiev.ua/web_im/80000/86000/86918b0_big.jpg\",\n",
    "    \"https://www.lampa.kiev.ua/web_im/50000/58000/58491b0_big.jpg\",\n",
    "    \"https://www.lampa.kiev.ua/web_im/80000/89000/89751b0_big.jpg\",\n",
    "    \"https://www.lampa.kiev.ua/web_im/90000/91000/91212b0_big.jpg\",\n",
    "    \"https://www.lampa.kiev.ua/web_im/30000/34000/34229b0_big.jpg\",\n",
    "    \"https://www.lampa.kiev.ua/web_im/60000/67000/67456b0_big.jpg\",\n",
    "    \"https://www.lampa.kiev.ua/web_im/40000/43000/43573b0_big.jpg\",\n",
    "    \"https://www.lampa.kiev.ua/web_im/80000/84000/84747b0_big.jpg\",\n",
    "    \"https://www.lampa.kiev.ua/web_im/70000/74000/74680b0_big.jpg\",\n",
    "    \"https://www.lampa.kiev.ua/web_im/80000/88000/88776b0_big.jpg\",\n",
    "    \"https://www.lampa.kiev.ua/web_im/80000/89000/89014b0_big.jpg\",\n",
    "    \"https://www.lampa.kiev.ua/web_im/80000/88000/88636b0_big.jpg\",\n",
    "    \"https://www.lampa.kiev.ua/web_im/90000/90000/90747b0_big.jpg\",\n",
    "    \"https://www.lampa.kiev.ua/web_im/40000/43000/43575b0_big.jpg\",\n",
    "    \"https://www.lampa.kiev.ua/web_im/50000/58000/58470b0_big.jpg\",\n",
    "    # category 3 (modern)\n",
    "    \"https://www.lampa.kiev.ua/web_im/90000/91000/91319b0_big.jpg\",\n",
    "    \"https://www.lampa.kiev.ua/web_im/90000/95000/95786b0_big.jpg\",\n",
    "    \"https://www.lampa.kiev.ua/web_im/50000/57000/57995b0_big.jpg\",\n",
    "    \"https://www.lampa.kiev.ua/web_im/90000/91000/91320b0_big.jpg\",\n",
    "    \"https://www.lampa.kiev.ua/web_im/30000/33000/33327b0_big.jpg\",\n",
    "    \"https://www.lampa.kiev.ua/web_im/90000/93000/93086b0_big.jpg\",\n",
    "    \"https://www.lampa.kiev.ua/web_im/90000/93000/93065b0_big.jpg\",\n",
    "    \"https://www.lampa.kiev.ua/web_im/90000/93000/93064b0_big.jpg\",\n",
    "    \"https://www.lampa.kiev.ua/web_im/90000/93000/93066b0_big.jpg\",\n",
    "    \"https://www.lampa.kiev.ua/web_im/70000/78000/78483b0_big.jpg\",\n",
    "    \"https://www.lampa.kiev.ua/web_im/90000/93000/93071b0_big.jpg\",\n",
    "    \"https://www.lampa.kiev.ua/web_im/90000/97000/97163b0_big.jpg\",\n",
    "    \"https://www.lampa.kiev.ua/web_im/70000/74000/74576b0_big.jpg\",\n",
    "    \"https://www.lampa.kiev.ua/web_im/90000/92000/92884b0_big.jpg\",\n",
    "    \"https://www.lampa.kiev.ua/web_im/40000/44000/44348b0_big.jpg\",\n",
    "    \"https://www.lampa.kiev.ua/web_im/40000/43000/43443b0_big.jpg\",\n",
    "    # category 4 (with a lampshade)\n",
    "    \"https://www.lampa.kiev.ua/web_im/70000/74000/74624b0_big.jpg\",\n",
    "    \"https://www.lampa.kiev.ua/web_im/50000/58000/58580b0_big.jpg\",\n",
    "    \"https://www.lampa.kiev.ua/web_im/50000/58000/58482b0_big.jpg\",\n",
    "    \"https://www.lampa.kiev.ua/web_im/70000/76000/76501b0_big.jpg\",\n",
    "    \"https://www.lampa.kiev.ua/web_im/70000/74000/74625b0_big.jpg\",\n",
    "    \"https://www.lampa.kiev.ua/web_im/90000/91000/91053b0_big.jpg\",\n",
    "    \"https://www.lampa.kiev.ua/web_im/70000/74000/74641b0_big.jpg\",\n",
    "    \"https://www.lampa.kiev.ua/web_im/90000/95000/95005b0_big.jpg\",\n",
    "    \"https://www.lampa.kiev.ua/web_im/50000/58000/58600b0_big.jpg\",\n",
    "    \"https://www.lampa.kiev.ua/web_im/50000/58000/58644b0_big.jpg\",\n",
    "    \"https://www.lampa.kiev.ua/web_im/70000/78000/78719b0_big.jpg\",\n",
    "    \"https://www.lampa.kiev.ua/web_im/90000/95000/95253b0_big.jpg\",\n",
    "    \"https://www.lampa.kiev.ua/web_im/90000/95000/95252b0_big.jpg\",\n",
    "    \"https://www.lampa.kiev.ua/web_im/90000/91000/91048b0_big.jpg\",\n",
    "    \"https://www.lampa.kiev.ua/web_im/90000/91000/91047b0_big.jpg\",\n",
    "    \"https://www.lampa.kiev.ua/web_im/90000/91000/91049b0_big.jpg\",\n",
    "] )\n",
    "print                       ( \"completed.\" )"
   ]
  },
  {
   "cell_type": "code",
   "execution_count": null,
   "metadata": {},
   "outputs": [],
   "source": [
    "# A a possible values for the layer argument:\n",
    "# avgpool1, avgpool2, avgpool3, avgpool4, avgpool5,\n",
    "# conv1_1, conv1_2, conv2_1, conv2_2, conv3_1, conv3_2,conv3_3, conv3_4,\n",
    "# conv4_1, conv4_2, conv4_3, conv4_4, conv5_1, conv5_2, conv5_3, conv5_4,\n",
    "# input\n",
    "# where \"input\" layer means per-pixel comparison, just for testing purposes\n",
    "g_layer                     = \"avgpool5\"\n",
    "g_image                     = Path.joinpath( g_images_folder, \"34229b0_big.jpg\" )\n",
    "\n",
    "print                       ( \"computing distance to \" + g_image.name + \" at layer \" + g_layer )\n",
    "show_similar                ( g_image, g_layer, g_model, g_images_file_names, g_images_database_version )"
   ]
  },
  {
   "cell_type": "markdown",
   "metadata": {},
   "source": [
    "If you wish, you can also take a picture of your own lamp and see the output of the model. To do this:\n",
    "    1. Click on \"File\" in the upper bar of this notebook, then click \"Open\" to go on the Hub.\n",
    "    2. Add your image to this Jupyter Notebook's directory, in the \"user_images\" folder\n",
    "    3. Write your image's name in the following code\n",
    "    4. Run the code and check if the algorithm is right! "
   ]
  },
  {
   "cell_type": "code",
   "execution_count": null,
   "metadata": {},
   "outputs": [],
   "source": [
    "show_similar                ( \"user_images/my_lamp.jpg\", \"avgpool5\", g_model, g_images_file_names, g_images_database_version )"
   ]
  },
  {
   "cell_type": "code",
   "execution_count": null,
   "metadata": {},
   "outputs": [],
   "source": []
  }
 ],
 "metadata": {
  "kernelspec": {
   "display_name": "Python 3",
   "language": "python",
   "name": "python3"
  },
  "language_info": {
   "codemirror_mode": {
    "name": "ipython",
    "version": 3
   },
   "file_extension": ".py",
   "mimetype": "text/x-python",
   "name": "python",
   "nbconvert_exporter": "python",
   "pygments_lexer": "ipython3",
   "version": "3.6.8"
  }
 },
 "nbformat": 4,
 "nbformat_minor": 2
}
